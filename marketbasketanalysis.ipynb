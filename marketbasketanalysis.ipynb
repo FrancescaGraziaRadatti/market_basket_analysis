{
  "nbformat": 4,
  "nbformat_minor": 0,
  "metadata": {
    "colab": {
      "name": "marketbasketanalysis.ipynb",
      "provenance": [],
      "collapsed_sections": [],
      "toc_visible": true,
      "authorship_tag": "ABX9TyPmKTDHveT7RJ2TNeoNVjKq",
      "include_colab_link": true
    },
    "kernelspec": {
      "display_name": "Python 3",
      "name": "python3"
    },
    "language_info": {
      "name": "python"
    }
  },
  "cells": [
    {
      "cell_type": "markdown",
      "metadata": {
        "id": "view-in-github",
        "colab_type": "text"
      },
      "source": [
        "<a href=\"https://colab.research.google.com/github/FrancescaGraziaRadatti/market_basket_analysis-/blob/main/marketbasketanalysis.ipynb\" target=\"_parent\"><img src=\"https://colab.research.google.com/assets/colab-badge.svg\" alt=\"Open In Colab\"/></a>"
      ]
    },
    {
      "cell_type": "markdown",
      "metadata": {
        "id": "QbnU4KwtgtZU"
      },
      "source": [
        "# **Market Basket Analysis implementation on IMDB dataset using SPARK Framework**\n",
        "\n",
        "The notebook exposes some useful implementations having the aim to:\n",
        "\n",
        "-import the IMDB dataset from KAGGLE using Token API; \n",
        "\n",
        "-elaborate some useful cleaning and preprocessing frameworks; \n",
        "\n",
        "-develop the market basket analysis and test the result obtained with the analysis;\n",
        "\n",
        "In order to get the significant result in a faster way, it has been used the Spark Framework. \n",
        "For more details about codes runned and theoretical explaination behind the codes, it's possible to open the GitHub repository following the link (mettere un hyperlink su GitHub per far vedere il progetto). \n",
        "\n",
        "\n",
        "\n",
        "\n"
      ]
    },
    {
      "cell_type": "markdown",
      "metadata": {
        "id": "fRiSIwYDvUKC"
      },
      "source": [
        "**Import the dataset**   --- magari potrei inserirlo in una sessione\n",
        "\n",
        "The first step regards the uploading of the dataset. Before actually importing the dataset, it's necessary to upload the kaggle.json file to connect the notebook to Kaggle. In the paper \"Market Basket Analysis for IMB dataset\" are shown all useful instruction to do it. It is shown and expplained also an alternative way to import data, without passing from kaggle. Using the dedicated google drive repository.\n",
        "\n",
        "\n"
      ]
    },
    {
      "cell_type": "code",
      "metadata": {
        "colab": {
          "resources": {
            "http://localhost:8080/nbextensions/google.colab/files.js": {
              "data": "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",
              "ok": true,
              "headers": [
                [
                  "content-type",
                  "application/javascript"
                ]
              ],
              "status": 200,
              "status_text": ""
            }
          },
          "base_uri": "https://localhost:8080/",
          "height": 90
        },
        "id": "Q29fr3eOGWg2",
        "outputId": "3dc3a8d8-a376-4b9a-bc83-7073f3c5b6fd"
      },
      "source": [
        "#upload kaggle Json API\n",
        "from google.colab import files \n",
        "files.upload()"
      ],
      "execution_count": 1,
      "outputs": [
        {
          "output_type": "display_data",
          "data": {
            "text/html": [
              "\n",
              "     <input type=\"file\" id=\"files-06e65492-7e40-47df-b7bb-90dd49c4e89a\" name=\"files[]\" multiple disabled\n",
              "        style=\"border:none\" />\n",
              "     <output id=\"result-06e65492-7e40-47df-b7bb-90dd49c4e89a\">\n",
              "      Upload widget is only available when the cell has been executed in the\n",
              "      current browser session. Please rerun this cell to enable.\n",
              "      </output>\n",
              "      <script src=\"/nbextensions/google.colab/files.js\"></script> "
            ],
            "text/plain": [
              "<IPython.core.display.HTML object>"
            ]
          },
          "metadata": {
            "tags": []
          }
        },
        {
          "output_type": "stream",
          "text": [
            "Saving kaggle.json to kaggle.json\n"
          ],
          "name": "stdout"
        },
        {
          "output_type": "execute_result",
          "data": {
            "text/plain": [
              "{'kaggle.json': b'{\"username\":\"francescaradatti\",\"key\":\"8d25e67213d6142d4ea76f061447cd5a\"}'}"
            ]
          },
          "metadata": {
            "tags": []
          },
          "execution_count": 1
        }
      ]
    },
    {
      "cell_type": "code",
      "metadata": {
        "colab": {
          "base_uri": "https://localhost:8080/"
        },
        "id": "FJf4OGO9Goui",
        "outputId": "e742cab9-b78e-40f1-9c20-8064b2ef7da5"
      },
      "source": [
        "#import the dataset \n",
        "!pip install -q kaggle\n",
        "!mkdir -p ~/.kaggle\n",
        "!cp kaggle.json ~/.kaggle/\n",
        "!ls ~/.kaggle \n",
        "!chmod 600 /root/.kaggle/kaggle.json\n",
        "!kaggle datasets download -d ashirwadsangwan/imdb-dataset\n",
        "!unzip imdb-dataset.zip"
      ],
      "execution_count": 2,
      "outputs": [
        {
          "output_type": "stream",
          "text": [
            "kaggle.json\n",
            "Downloading imdb-dataset.zip to /content\n",
            "100% 1.44G/1.44G [00:24<00:00, 34.7MB/s]\n",
            "100% 1.44G/1.44G [00:24<00:00, 62.5MB/s]\n",
            "Archive:  imdb-dataset.zip\n",
            "  inflating: name.basics.tsv.gz      \n",
            "  inflating: name.basics.tsv/name.basics.tsv  \n",
            "  inflating: title.akas.tsv.gz       \n",
            "  inflating: title.akas.tsv/title.akas.tsv  \n",
            "  inflating: title.basics.tsv.gz     \n",
            "  inflating: title.basics.tsv/title.basics.tsv  \n",
            "  inflating: title.principals.tsv.gz  \n",
            "  inflating: title.principals.tsv/title.principals.tsv  \n",
            "  inflating: title.ratings.tsv.gz    \n",
            "  inflating: title.ratings.tsv/title.ratings.tsv  \n"
          ],
          "name": "stdout"
        }
      ]
    },
    {
      "cell_type": "markdown",
      "metadata": {
        "id": "ThaVPpqVmGdt"
      },
      "source": [
        "**2. Install Pyspark and import some useful libraries**\n",
        "\n",
        "PySpark is a Python API for Spark. It helps to interface with Resilient Distributed Datasets (RDDs).\n",
        "Libraries used in this notebook in order to writing programs are: PySpark, PySparkSQL and PySparkML "
      ]
    },
    {
      "cell_type": "code",
      "metadata": {
        "colab": {
          "base_uri": "https://localhost:8080/"
        },
        "id": "cEcDsqIyJwPh",
        "outputId": "b526f978-aea3-42ab-e08f-ca6fa3b590ad"
      },
      "source": [
        "#install pyspark \n",
        "!pip install pyspark\n",
        "import pyspark\n",
        "from pyspark.sql import SparkSession\n",
        "from pyspark.ml.fpm import FPGrowth\n",
        "import seaborn as sns   \n",
        "import matplotlib.pyplot as plt  \n",
        "import pandas"
      ],
      "execution_count": 3,
      "outputs": [
        {
          "output_type": "stream",
          "text": [
            "Collecting pyspark\n",
            "\u001b[?25l  Downloading https://files.pythonhosted.org/packages/45/b0/9d6860891ab14a39d4bddf80ba26ce51c2f9dc4805e5c6978ac0472c120a/pyspark-3.1.1.tar.gz (212.3MB)\n",
            "\u001b[K     |████████████████████████████████| 212.3MB 68kB/s \n",
            "\u001b[?25hCollecting py4j==0.10.9\n",
            "\u001b[?25l  Downloading https://files.pythonhosted.org/packages/9e/b6/6a4fb90cd235dc8e265a6a2067f2a2c99f0d91787f06aca4bcf7c23f3f80/py4j-0.10.9-py2.py3-none-any.whl (198kB)\n",
            "\u001b[K     |████████████████████████████████| 204kB 13.3MB/s \n",
            "\u001b[?25hBuilding wheels for collected packages: pyspark\n",
            "  Building wheel for pyspark (setup.py) ... \u001b[?25l\u001b[?25hdone\n",
            "  Created wheel for pyspark: filename=pyspark-3.1.1-py2.py3-none-any.whl size=212767604 sha256=f17434eefc2a0027600933fe39c162b575b744ccc4e9361a999e79631859ab43\n",
            "  Stored in directory: /root/.cache/pip/wheels/0b/90/c0/01de724414ef122bd05f056541fb6a0ecf47c7ca655f8b3c0f\n",
            "Successfully built pyspark\n",
            "Installing collected packages: py4j, pyspark\n",
            "Successfully installed py4j-0.10.9 pyspark-3.1.1\n"
          ],
          "name": "stdout"
        }
      ]
    },
    {
      "cell_type": "markdown",
      "metadata": {
        "id": "xj4lAd_wrPjW"
      },
      "source": [
        "**Create Spark**\n",
        "\n",
        "In order to define my Spark function, I exploited: \n",
        "\n",
        "-the HiveSupport method for the catalog implementation that enables the sequel views memorization.  \n",
        "\n",
        "-getOrCreate to create an object that \"speaks with\" Java\n",
        "\n",
        "-SparkSession to translate and execute JavaScript functions on Python. Since I need to execute SQL queries over tables, I preferred it to SparkContext (that is very similar). \n",
        "\n",
        "Once defined, on which functions is based my framework, I used it to read the TSV files. "
      ]
    },
    {
      "cell_type": "code",
      "metadata": {
        "id": "AcCQW4H5MRhk"
      },
      "source": [
        "spark = SparkSession.builder.enableHiveSupport().getOrCreate()\n",
        "   #spark libreria scritta in JAva per fare calcoli su sistemi distribuiti; nel sistema distribuito i dati vengono divisi. \n",
        "   #in python devono essere costruite delle librerie per cooperare con JAVA. Applicando Sparksession(oggetto) passiamo i dataframe a JAva \n",
        "   #getorcreate= crea un oggetto (python) che parla con java --- si può usare anche sparkcontext, dipende dal caso specifico. \n",
        "   #sparkSession e SparkContext si assomigliano molto; diff= SC sembra non essere in grado di gestire queries e databases. \n",
        "   #vantaggio di sparksession= fa girare le funzioni di Java su python. \n",
        "   #hivesupport=metodo che abilita la memorizzazione persistente delle viste sequel; le salvi temporaneamente\n",
        "   #vantaggio di spark: splittare i dati su varie macchine, ma noi non lo vediamo qui  "
      ],
      "execution_count": 4,
      "outputs": []
    },
    {
      "cell_type": "code",
      "metadata": {
        "id": "1g3OLOkZXCFR"
      },
      "source": [
        ""
      ],
      "execution_count": 4,
      "outputs": []
    },
    {
      "cell_type": "markdown",
      "metadata": {
        "id": "0GA4rotCfnd_"
      },
      "source": [
        "**Read TSV file with spark.read.csv**\n",
        "\n",
        "PySpark provides spark.read.csv(\"path\") to read a CSV file into Spark DataFrame (also read multiple csv files).\n",
        "Indeed, using the \"spark.read\" function, the notebook has the aim to trasform the tsv (csv with fields delimited by tab) datasets(o dataframe?) into RDDs. "
      ]
    },
    {
      "cell_type": "code",
      "metadata": {
        "id": "1LiL35dGMX8b"
      },
      "source": [
        "#spark.csv\n",
        "title_akas = spark.read.csv(\"/content/title.akas.tsv\", sep='\\t', header=True, inferSchema=True)\n",
        "title_basics = spark.read.csv(\"/content/title.basics.tsv\", sep='\\t', header=True, inferSchema=True)\n",
        "title_principals = spark.read.csv(\"/content/title.principals.tsv\", sep='\\t', header=True, inferSchema=True)\n",
        "title_ratings = spark.read.csv(\"/content/title.ratings.tsv\", sep='\\t', header=True, inferSchema=True)\n",
        "name_basics= spark.read.csv(\"/content/name.basics.tsv/name.basics.tsv\", sep='\\t', header=True, inferSchema=True)\n",
        "\n"
      ],
      "execution_count": 5,
      "outputs": []
    },
    {
      "cell_type": "markdown",
      "metadata": {
        "id": "I4CRSPkxjNGX"
      },
      "source": [
        "**Create lazy views**\n",
        "\n",
        "createOrReplaceTempView creates a lazily evaluated \"view\" that can be used like a hive table in Spark SQL. (vedere se effettivamente mi serve) --- se non mi serve devo eliminare pure Hive sopra"
      ]
    },
    {
      "cell_type": "code",
      "metadata": {
        "id": "TgQUCIfQM6x_"
      },
      "source": [
        "#devo cercare di non runnarlo la prossima volta\n",
        "title_akas.createOrReplaceTempView(\"title_akas\")\n",
        "title_basics.createOrReplaceTempView(\"title_basics\")\n",
        "title_principals.createOrReplaceTempView(\"title_principals\")\n",
        "title_ratings.createOrReplaceTempView(\"title_ratings\")\n",
        "name_basics.createOrReplaceTempView(\"name_basics\")\n",
        "\n",
        "\n"
      ],
      "execution_count": 6,
      "outputs": []
    },
    {
      "cell_type": "markdown",
      "metadata": {
        "id": "sB80U5lMX1jZ"
      },
      "source": [
        "**Check on the structure and dimensions of the DataFrame**"
      ]
    },
    {
      "cell_type": "code",
      "metadata": {
        "colab": {
          "base_uri": "https://localhost:8080/"
        },
        "id": "oW3QfavbR1rM",
        "outputId": "c01ce2f7-7d68-44a0-b2da-e64bb7879d7c"
      },
      "source": [
        "title_akas.show(n = 5)"
      ],
      "execution_count": 7,
      "outputs": [
        {
          "output_type": "stream",
          "text": [
            "+---------+--------+--------------------+------+--------+-----------+----------+---------------+\n",
            "|  titleId|ordering|               title|region|language|      types|attributes|isOriginalTitle|\n",
            "+---------+--------+--------------------+------+--------+-----------+----------+---------------+\n",
            "|tt0000001|       1|Carmencita - span...|    HU|      \\N|imdbDisplay|        \\N|              0|\n",
            "|tt0000001|       2|          Καρμενσίτα|    GR|      \\N|         \\N|        \\N|              0|\n",
            "|tt0000001|       3|          Карменсита|    RU|      \\N|         \\N|        \\N|              0|\n",
            "|tt0000001|       4|          Carmencita|    US|      \\N|         \\N|        \\N|              0|\n",
            "|tt0000001|       5|          Carmencita|    \\N|      \\N|   original|        \\N|              1|\n",
            "+---------+--------+--------------------+------+--------+-----------+----------+---------------+\n",
            "only showing top 5 rows\n",
            "\n"
          ],
          "name": "stdout"
        }
      ]
    },
    {
      "cell_type": "code",
      "metadata": {
        "colab": {
          "base_uri": "https://localhost:8080/"
        },
        "id": "-UqPq1IJfAJe",
        "outputId": "cdb78ece-38cf-462b-8ff9-5f483f7fc8d9"
      },
      "source": [
        "title_akas.printSchema()"
      ],
      "execution_count": 8,
      "outputs": [
        {
          "output_type": "stream",
          "text": [
            "root\n",
            " |-- titleId: string (nullable = true)\n",
            " |-- ordering: integer (nullable = true)\n",
            " |-- title: string (nullable = true)\n",
            " |-- region: string (nullable = true)\n",
            " |-- language: string (nullable = true)\n",
            " |-- types: string (nullable = true)\n",
            " |-- attributes: string (nullable = true)\n",
            " |-- isOriginalTitle: string (nullable = true)\n",
            "\n"
          ],
          "name": "stdout"
        }
      ]
    },
    {
      "cell_type": "code",
      "metadata": {
        "colab": {
          "base_uri": "https://localhost:8080/"
        },
        "id": "oUfuZaKQSARy",
        "outputId": "085fb482-fc47-49a0-d010-c5faed09ed55"
      },
      "source": [
        "title_basics.show(n = 5)"
      ],
      "execution_count": 9,
      "outputs": [
        {
          "output_type": "stream",
          "text": [
            "+---------+---------+--------------------+--------------------+-------+---------+-------+--------------+--------------------+\n",
            "|   tconst|titleType|        primaryTitle|       originalTitle|isAdult|startYear|endYear|runtimeMinutes|              genres|\n",
            "+---------+---------+--------------------+--------------------+-------+---------+-------+--------------+--------------------+\n",
            "|tt0000001|    short|          Carmencita|          Carmencita|      0|     1894|     \\N|             1|   Documentary,Short|\n",
            "|tt0000002|    short|Le clown et ses c...|Le clown et ses c...|      0|     1892|     \\N|             5|     Animation,Short|\n",
            "|tt0000003|    short|      Pauvre Pierrot|      Pauvre Pierrot|      0|     1892|     \\N|             4|Animation,Comedy,...|\n",
            "|tt0000004|    short|         Un bon bock|         Un bon bock|      0|     1892|     \\N|            \\N|     Animation,Short|\n",
            "|tt0000005|    short|    Blacksmith Scene|    Blacksmith Scene|      0|     1893|     \\N|             1|        Comedy,Short|\n",
            "+---------+---------+--------------------+--------------------+-------+---------+-------+--------------+--------------------+\n",
            "only showing top 5 rows\n",
            "\n"
          ],
          "name": "stdout"
        }
      ]
    },
    {
      "cell_type": "code",
      "metadata": {
        "colab": {
          "base_uri": "https://localhost:8080/"
        },
        "id": "k7vf0q1dh2Fj",
        "outputId": "31f5f422-0f37-4dea-adcb-de72d6d556e6"
      },
      "source": [
        "title_basics.printSchema()"
      ],
      "execution_count": 10,
      "outputs": [
        {
          "output_type": "stream",
          "text": [
            "root\n",
            " |-- tconst: string (nullable = true)\n",
            " |-- titleType: string (nullable = true)\n",
            " |-- primaryTitle: string (nullable = true)\n",
            " |-- originalTitle: string (nullable = true)\n",
            " |-- isAdult: integer (nullable = true)\n",
            " |-- startYear: string (nullable = true)\n",
            " |-- endYear: string (nullable = true)\n",
            " |-- runtimeMinutes: string (nullable = true)\n",
            " |-- genres: string (nullable = true)\n",
            "\n"
          ],
          "name": "stdout"
        }
      ]
    },
    {
      "cell_type": "code",
      "metadata": {
        "colab": {
          "base_uri": "https://localhost:8080/"
        },
        "id": "dmb7Hz-eSGvR",
        "outputId": "b8624250-2e1f-4d16-c2ab-38c886a443e4"
      },
      "source": [
        "title_principals.show(n = 5)"
      ],
      "execution_count": 11,
      "outputs": [
        {
          "output_type": "stream",
          "text": [
            "+---------+--------+---------+---------------+--------------------+-----------+\n",
            "|   tconst|ordering|   nconst|       category|                 job| characters|\n",
            "+---------+--------+---------+---------------+--------------------+-----------+\n",
            "|tt0000001|       1|nm1588970|           self|                  \\N|[\"Herself\"]|\n",
            "|tt0000001|       2|nm0005690|       director|                  \\N|         \\N|\n",
            "|tt0000001|       3|nm0374658|cinematographer|director of photo...|         \\N|\n",
            "|tt0000002|       1|nm0721526|       director|                  \\N|         \\N|\n",
            "|tt0000002|       2|nm1335271|       composer|                  \\N|         \\N|\n",
            "+---------+--------+---------+---------------+--------------------+-----------+\n",
            "only showing top 5 rows\n",
            "\n"
          ],
          "name": "stdout"
        }
      ]
    },
    {
      "cell_type": "code",
      "metadata": {
        "colab": {
          "base_uri": "https://localhost:8080/"
        },
        "id": "4WRFkjsbh7rK",
        "outputId": "090054fc-e482-41ce-93da-ff94bf267ac3"
      },
      "source": [
        "title_principals.printSchema()"
      ],
      "execution_count": 12,
      "outputs": [
        {
          "output_type": "stream",
          "text": [
            "root\n",
            " |-- tconst: string (nullable = true)\n",
            " |-- ordering: integer (nullable = true)\n",
            " |-- nconst: string (nullable = true)\n",
            " |-- category: string (nullable = true)\n",
            " |-- job: string (nullable = true)\n",
            " |-- characters: string (nullable = true)\n",
            "\n"
          ],
          "name": "stdout"
        }
      ]
    },
    {
      "cell_type": "code",
      "metadata": {
        "colab": {
          "base_uri": "https://localhost:8080/"
        },
        "id": "2B79lGPCSWoZ",
        "outputId": "56d23ba3-29f1-4299-b5b2-c60f1be95ed0"
      },
      "source": [
        "title_ratings.show(n = 5)"
      ],
      "execution_count": 13,
      "outputs": [
        {
          "output_type": "stream",
          "text": [
            "+---------+-------------+--------+\n",
            "|   tconst|averageRating|numVotes|\n",
            "+---------+-------------+--------+\n",
            "|tt0000001|          5.6|    1550|\n",
            "|tt0000002|          6.1|     186|\n",
            "|tt0000003|          6.5|    1207|\n",
            "|tt0000004|          6.2|     113|\n",
            "|tt0000005|          6.1|    1934|\n",
            "+---------+-------------+--------+\n",
            "only showing top 5 rows\n",
            "\n"
          ],
          "name": "stdout"
        }
      ]
    },
    {
      "cell_type": "code",
      "metadata": {
        "colab": {
          "base_uri": "https://localhost:8080/"
        },
        "id": "zHDOUpGkiBhJ",
        "outputId": "49569f77-3604-4808-988e-a6a9fea0840a"
      },
      "source": [
        "title_ratings.printSchema()"
      ],
      "execution_count": 14,
      "outputs": [
        {
          "output_type": "stream",
          "text": [
            "root\n",
            " |-- tconst: string (nullable = true)\n",
            " |-- averageRating: double (nullable = true)\n",
            " |-- numVotes: integer (nullable = true)\n",
            "\n"
          ],
          "name": "stdout"
        }
      ]
    },
    {
      "cell_type": "code",
      "metadata": {
        "colab": {
          "base_uri": "https://localhost:8080/"
        },
        "id": "d1N3nY-W2NGN",
        "outputId": "891dc100-4efc-4730-9324-35545bf50a58"
      },
      "source": [
        "name_basics.show(n=5)"
      ],
      "execution_count": 15,
      "outputs": [
        {
          "output_type": "stream",
          "text": [
            "+---------+---------------+---------+---------+--------------------+--------------------+\n",
            "|   nconst|    primaryName|birthYear|deathYear|   primaryProfession|      knownForTitles|\n",
            "+---------+---------------+---------+---------+--------------------+--------------------+\n",
            "|nm0000001|   Fred Astaire|     1899|     1987|soundtrack,actor,...|tt0050419,tt00531...|\n",
            "|nm0000002|  Lauren Bacall|     1924|     2014|  actress,soundtrack|tt0071877,tt01170...|\n",
            "|nm0000003|Brigitte Bardot|     1934|       \\N|actress,soundtrac...|tt0054452,tt00491...|\n",
            "|nm0000004|   John Belushi|     1949|     1982|actor,writer,soun...|tt0077975,tt00725...|\n",
            "|nm0000005| Ingmar Bergman|     1918|     2007|writer,director,a...|tt0069467,tt00509...|\n",
            "+---------+---------------+---------+---------+--------------------+--------------------+\n",
            "only showing top 5 rows\n",
            "\n"
          ],
          "name": "stdout"
        }
      ]
    },
    {
      "cell_type": "code",
      "metadata": {
        "colab": {
          "base_uri": "https://localhost:8080/"
        },
        "id": "2T3vmlWiiFm4",
        "outputId": "c808c593-a46a-4f69-d0f7-e844eacd8c10"
      },
      "source": [
        "name_basics.printSchema()"
      ],
      "execution_count": 16,
      "outputs": [
        {
          "output_type": "stream",
          "text": [
            "root\n",
            " |-- nconst: string (nullable = true)\n",
            " |-- primaryName: string (nullable = true)\n",
            " |-- birthYear: string (nullable = true)\n",
            " |-- deathYear: string (nullable = true)\n",
            " |-- primaryProfession: string (nullable = true)\n",
            " |-- knownForTitles: string (nullable = true)\n",
            "\n"
          ],
          "name": "stdout"
        }
      ]
    },
    {
      "cell_type": "code",
      "metadata": {
        "colab": {
          "base_uri": "https://localhost:8080/"
        },
        "id": "mTm3oq_3mKl7",
        "outputId": "9f90d7e5-583f-4436-b0dc-386b0cfe0446"
      },
      "source": [
        "def spark_shape(self):\n",
        "    return (self.count(), len(self.columns))\n",
        "pyspark.sql.dataframe.DataFrame.shape = spark_shape\n",
        "#shape\n",
        "spark_shape(title_basics)"
      ],
      "execution_count": 17,
      "outputs": [
        {
          "output_type": "execute_result",
          "data": {
            "text/plain": [
              "(6321302, 9)"
            ]
          },
          "metadata": {
            "tags": []
          },
          "execution_count": 17
        }
      ]
    },
    {
      "cell_type": "code",
      "metadata": {
        "colab": {
          "base_uri": "https://localhost:8080/"
        },
        "id": "1dmIL88RvvaX",
        "outputId": "b52e8b9d-48d8-4763-ddb4-d979cd108be8"
      },
      "source": [
        "spark_shape(title_akas)"
      ],
      "execution_count": 18,
      "outputs": [
        {
          "output_type": "execute_result",
          "data": {
            "text/plain": [
              "(19527971, 8)"
            ]
          },
          "metadata": {
            "tags": []
          },
          "execution_count": 18
        }
      ]
    },
    {
      "cell_type": "code",
      "metadata": {
        "colab": {
          "base_uri": "https://localhost:8080/"
        },
        "id": "AN4-TBAFvyTl",
        "outputId": "17e88542-fe3b-4f48-d0ff-58dc8d68ea41"
      },
      "source": [
        "spark_shape(title_principals)"
      ],
      "execution_count": 19,
      "outputs": [
        {
          "output_type": "execute_result",
          "data": {
            "text/plain": [
              "(36468817, 6)"
            ]
          },
          "metadata": {
            "tags": []
          },
          "execution_count": 19
        }
      ]
    },
    {
      "cell_type": "code",
      "metadata": {
        "colab": {
          "base_uri": "https://localhost:8080/"
        },
        "id": "rQM_2ZSfv1VE",
        "outputId": "53fd19ac-9408-4573-bfb8-3c2f1c2d77cd"
      },
      "source": [
        "spark_shape(title_ratings)"
      ],
      "execution_count": 20,
      "outputs": [
        {
          "output_type": "execute_result",
          "data": {
            "text/plain": [
              "(993153, 3)"
            ]
          },
          "metadata": {
            "tags": []
          },
          "execution_count": 20
        }
      ]
    },
    {
      "cell_type": "code",
      "metadata": {
        "colab": {
          "base_uri": "https://localhost:8080/"
        },
        "id": "6MFZpPtoj1Rd",
        "outputId": "88daad02-51fe-4627-935a-d4bfad215bdd"
      },
      "source": [
        "spark_shape(name_basics)"
      ],
      "execution_count": 21,
      "outputs": [
        {
          "output_type": "execute_result",
          "data": {
            "text/plain": [
              "(9706922, 6)"
            ]
          },
          "metadata": {
            "tags": []
          },
          "execution_count": 21
        }
      ]
    },
    {
      "cell_type": "markdown",
      "metadata": {
        "id": "zL7jLdtXYIIQ"
      },
      "source": [
        "**Cleaning operations**\n",
        "\n",
        "In order to avoid some unexpected stained results, some useful cleaning techniques have been adopted: \n",
        "\n",
        "-count and in case drop null values\n",
        "\n",
        "-drop duplicates"
      ]
    },
    {
      "cell_type": "code",
      "metadata": {
        "colab": {
          "base_uri": "https://localhost:8080/"
        },
        "id": "Su0QRBoukTIe",
        "outputId": "362dbf6a-9336-4849-cf0b-7a02796c4b12"
      },
      "source": [
        "#count null values in each column\n",
        "from pyspark.sql.functions import isnan, when, count, col\n",
        "\n",
        "title_akas.select([count(when(isnan(c), c)).alias(c) for c in title_akas.columns]).show()"
      ],
      "execution_count": 22,
      "outputs": [
        {
          "output_type": "stream",
          "text": [
            "+-------+--------+-----+------+--------+-----+----------+---------------+\n",
            "|titleId|ordering|title|region|language|types|attributes|isOriginalTitle|\n",
            "+-------+--------+-----+------+--------+-----+----------+---------------+\n",
            "|      0|       0|    5|     0|       0|    0|         0|              0|\n",
            "+-------+--------+-----+------+--------+-----+----------+---------------+\n",
            "\n"
          ],
          "name": "stdout"
        }
      ]
    },
    {
      "cell_type": "code",
      "metadata": {
        "colab": {
          "base_uri": "https://localhost:8080/"
        },
        "id": "1rCaxlu2lOvT",
        "outputId": "3ee83d7c-f902-4144-a326-52880c04b7dc"
      },
      "source": [
        "title_basics.select([count(when(isnan(c), c)).alias(c) for c in title_basics.columns]).show()"
      ],
      "execution_count": 23,
      "outputs": [
        {
          "output_type": "stream",
          "text": [
            "+------+---------+------------+-------------+-------+---------+-------+--------------+------+\n",
            "|tconst|titleType|primaryTitle|originalTitle|isAdult|startYear|endYear|runtimeMinutes|genres|\n",
            "+------+---------+------------+-------------+-------+---------+-------+--------------+------+\n",
            "|     0|        0|           7|            7|      0|        0|      0|             0|     0|\n",
            "+------+---------+------------+-------------+-------+---------+-------+--------------+------+\n",
            "\n"
          ],
          "name": "stdout"
        }
      ]
    },
    {
      "cell_type": "code",
      "metadata": {
        "colab": {
          "base_uri": "https://localhost:8080/"
        },
        "id": "AMTbxZKElZiM",
        "outputId": "fcb10042-643a-47df-9eb5-74b84cd2cfd9"
      },
      "source": [
        "title_principals.select([count(when(isnan(c), c)).alias(c) for c in title_principals.columns]).show()"
      ],
      "execution_count": 24,
      "outputs": [
        {
          "output_type": "stream",
          "text": [
            "+------+--------+------+--------+---+----------+\n",
            "|tconst|ordering|nconst|category|job|characters|\n",
            "+------+--------+------+--------+---+----------+\n",
            "|     0|       0|     0|       0|  0|         0|\n",
            "+------+--------+------+--------+---+----------+\n",
            "\n"
          ],
          "name": "stdout"
        }
      ]
    },
    {
      "cell_type": "code",
      "metadata": {
        "colab": {
          "base_uri": "https://localhost:8080/"
        },
        "id": "6UU7nAamledc",
        "outputId": "ce6da1ad-b9ce-4fb6-e8e1-8aefd86d1ea7"
      },
      "source": [
        "title_ratings.select([count(when(isnan(c), c)).alias(c) for c in title_ratings.columns]).show()"
      ],
      "execution_count": 25,
      "outputs": [
        {
          "output_type": "stream",
          "text": [
            "+------+-------------+--------+\n",
            "|tconst|averageRating|numVotes|\n",
            "+------+-------------+--------+\n",
            "|     0|            0|       0|\n",
            "+------+-------------+--------+\n",
            "\n"
          ],
          "name": "stdout"
        }
      ]
    },
    {
      "cell_type": "code",
      "metadata": {
        "colab": {
          "base_uri": "https://localhost:8080/"
        },
        "id": "9m1BCyJ0llWX",
        "outputId": "b4a4274d-6d10-4ccf-ba92-e40c77927dee"
      },
      "source": [
        "name_basics.select([count(when(isnan(c),c)).alias(c) for c in name_basics.columns]).show()"
      ],
      "execution_count": 26,
      "outputs": [
        {
          "output_type": "stream",
          "text": [
            "+------+-----------+---------+---------+-----------------+--------------+\n",
            "|nconst|primaryName|birthYear|deathYear|primaryProfession|knownForTitles|\n",
            "+------+-----------+---------+---------+-----------------+--------------+\n",
            "|     0|          7|        0|        0|                0|             0|\n",
            "+------+-----------+---------+---------+-----------------+--------------+\n",
            "\n"
          ],
          "name": "stdout"
        }
      ]
    },
    {
      "cell_type": "code",
      "metadata": {
        "colab": {
          "base_uri": "https://localhost:8080/"
        },
        "id": "Fu9o0VG2QMfW",
        "outputId": "f606810d-75c1-4e8d-a65b-8af104cbca6d"
      },
      "source": [
        "name_basics.select([count(when(isnan(c),c)).alias(c) for c in name_basics.columns]).show()"
      ],
      "execution_count": 27,
      "outputs": [
        {
          "output_type": "stream",
          "text": [
            "+------+-----------+---------+---------+-----------------+--------------+\n",
            "|nconst|primaryName|birthYear|deathYear|primaryProfession|knownForTitles|\n",
            "+------+-----------+---------+---------+-----------------+--------------+\n",
            "|     0|          7|        0|        0|                0|             0|\n",
            "+------+-----------+---------+---------+-----------------+--------------+\n",
            "\n"
          ],
          "name": "stdout"
        }
      ]
    },
    {
      "cell_type": "code",
      "metadata": {
        "colab": {
          "base_uri": "https://localhost:8080/"
        },
        "id": "epIrUBw0d8FX",
        "outputId": "1df7f9c6-482d-4e7d-c62c-d8166c1367ee"
      },
      "source": [
        "#remove duplicates\n",
        "title_akas.dropDuplicates()\n",
        "title_basics.dropDuplicates()\n",
        "title_principals.dropDuplicates()\n",
        "title_ratings.dropDuplicates()\n",
        "name_basics.dropDuplicates()\n"
      ],
      "execution_count": 29,
      "outputs": [
        {
          "output_type": "execute_result",
          "data": {
            "text/plain": [
              "DataFrame[nconst: string, primaryName: string, birthYear: string, deathYear: string, primaryProfession: string, knownForTitles: string]"
            ]
          },
          "metadata": {
            "tags": []
          },
          "execution_count": 29
        }
      ]
    },
    {
      "cell_type": "markdown",
      "metadata": {
        "id": "G3q5CqghmOE3"
      },
      "source": [
        "**Exploratory Analysis**"
      ]
    },
    {
      "cell_type": "markdown",
      "metadata": {
        "id": "8No2_90hmUQp"
      },
      "source": [
        "1. identify the average run time minute for each film "
      ]
    },
    {
      "cell_type": "code",
      "metadata": {
        "colab": {
          "base_uri": "https://localhost:8080/"
        },
        "id": "IqC6zQYJbwKX",
        "outputId": "f01665c7-3037-4d09-de2c-b735295c4909"
      },
      "source": [
        "query1 = \"\"\"SELECT avg(runtimeMinutes) as Agerage_Time\n",
        "           FROM title_basics\n",
        "           WHERE ((runtimeMinutes >0) AND (runtimeMinutes <> '/N'))\n",
        "           \"\"\"\n",
        "average_runtime = spark.sql(query1)\n",
        "average_runtime.show()"
      ],
      "execution_count": 30,
      "outputs": [
        {
          "output_type": "stream",
          "text": [
            "+-----------------+\n",
            "|     Agerage_Time|\n",
            "+-----------------+\n",
            "|45.01084080554667|\n",
            "+-----------------+\n",
            "\n"
          ],
          "name": "stdout"
        }
      ]
    },
    {
      "cell_type": "markdown",
      "metadata": {
        "id": "q39D4z6Bmknw"
      },
      "source": [
        "2. Identify how much original title (title written in original language) are equal to the primary titles(title chosen by filmmakers) and how much of them differ.\n",
        " "
      ]
    },
    {
      "cell_type": "code",
      "metadata": {
        "id": "OpW_0VJCdW3_",
        "colab": {
          "base_uri": "https://localhost:8080/"
        },
        "outputId": "ed20427b-ec2d-4eb4-f179-b3ff1f048cb5"
      },
      "source": [
        "query2 = \"\"\"SELECT COUNT(*) as equal_titles\n",
        "           FROM title_basics  \n",
        "           WHERE originalTitle=primaryTitle\n",
        "         \"\"\"\n",
        "count_original_title = spark.sql(query2)\n",
        "count_original_title.show()"
      ],
      "execution_count": 31,
      "outputs": [
        {
          "output_type": "stream",
          "text": [
            "+------------+\n",
            "|equal_titles|\n",
            "+------------+\n",
            "|     6222059|\n",
            "+------------+\n",
            "\n"
          ],
          "name": "stdout"
        }
      ]
    },
    {
      "cell_type": "code",
      "metadata": {
        "colab": {
          "base_uri": "https://localhost:8080/"
        },
        "id": "coONWgDggF61",
        "outputId": "a69a3820-c4c2-4935-ada4-f109038adc9d"
      },
      "source": [
        "query4 = \"\"\"SELECT COUNT(*) as different_titles\n",
        "           FROM title_basics  \n",
        "           WHERE originalTitle <> primaryTitle\n",
        "         \"\"\"\n",
        "count_original_title_diff = spark.sql(query4)\n",
        "count_original_title_diff.show()"
      ],
      "execution_count": 32,
      "outputs": [
        {
          "output_type": "stream",
          "text": [
            "+----------------+\n",
            "|different_titles|\n",
            "+----------------+\n",
            "|           99243|\n",
            "+----------------+\n",
            "\n"
          ],
          "name": "stdout"
        }
      ]
    },
    {
      "cell_type": "code",
      "metadata": {
        "colab": {
          "base_uri": "https://localhost:8080/"
        },
        "id": "1T0nKJKMfv5t",
        "outputId": "00586ce7-cdb4-4714-91ce-95630e591b1c"
      },
      "source": [
        "query3 = \"\"\"SELECT  count(originalTitle) \n",
        "           FROM title_basics    \n",
        "           WHERE originalTitle <> ('/N')\n",
        "         \"\"\"\n",
        "count_original = spark.sql(query3)\n",
        "count_original.show()"
      ],
      "execution_count": 33,
      "outputs": [
        {
          "output_type": "stream",
          "text": [
            "+--------------------+\n",
            "|count(originalTitle)|\n",
            "+--------------------+\n",
            "|             6321302|\n",
            "+--------------------+\n",
            "\n"
          ],
          "name": "stdout"
        }
      ]
    },
    {
      "cell_type": "code",
      "metadata": {
        "colab": {
          "base_uri": "https://localhost:8080/"
        },
        "id": "ChyccOrJp45p",
        "outputId": "ee653b77-3c9e-4075-e7b2-c48ce69cea54"
      },
      "source": [
        "query4 = \"\"\"SELECT  count(primaryTitle) \n",
        "           FROM title_basics    \n",
        "           WHERE primaryTitle <> ('/N')\n",
        "         \"\"\"\n",
        "count_original = spark.sql(query4)\n",
        "count_original.show()"
      ],
      "execution_count": 34,
      "outputs": [
        {
          "output_type": "stream",
          "text": [
            "+-------------------+\n",
            "|count(primaryTitle)|\n",
            "+-------------------+\n",
            "|            6321302|\n",
            "+-------------------+\n",
            "\n"
          ],
          "name": "stdout"
        }
      ]
    },
    {
      "cell_type": "markdown",
      "metadata": {
        "id": "gscF-s2VqSz1"
      },
      "source": [
        "3. Identify most frequent genres and shelf space taken by each genre\n",
        "\n",
        "\n",
        "\n",
        "\n"
      ]
    },
    {
      "cell_type": "code",
      "metadata": {
        "colab": {
          "base_uri": "https://localhost:8080/"
        },
        "id": "tcgZuq2hwL-d",
        "outputId": "5ad18f50-e823-4d3a-8fbb-c5ea1bb521be"
      },
      "source": [
        "query6 = \"\"\"SELECT genres, count(genres) AS Most_viewed \n",
        "            FROM title_basics\n",
        "            GROUP BY genres\n",
        "            ORDER BY count(genres) DESC\n",
        "            LIMIT 20\n",
        "         \"\"\"\n",
        "genres_titles = spark.sql(query6)\n",
        "genres_titles.show()"
      ],
      "execution_count": 35,
      "outputs": [
        {
          "output_type": "stream",
          "text": [
            "+--------------------+-----------+\n",
            "|              genres|Most_viewed|\n",
            "+--------------------+-----------+\n",
            "|               Drama|     610744|\n",
            "|                  \\N|     501313|\n",
            "|              Comedy|     463844|\n",
            "|         Documentary|     311479|\n",
            "|           Talk-Show|     309046|\n",
            "|       Drama,Romance|     280739|\n",
            "|                News|     222191|\n",
            "|          Reality-TV|     197224|\n",
            "|               Adult|     168998|\n",
            "|               Short|     141087|\n",
            "|         Drama,Short|     136454|\n",
            "|        Comedy,Short|     116318|\n",
            "|   Documentary,Short|     101937|\n",
            "|              Family|     101684|\n",
            "|           Game-Show|      90560|\n",
            "|      News,Talk-Show|      83683|\n",
            "|               Music|      77270|\n",
            "|               Sport|      67540|\n",
            "|Comedy,Drama,Romance|      61708|\n",
            "|             Romance|      59994|\n",
            "+--------------------+-----------+\n",
            "\n"
          ],
          "name": "stdout"
        }
      ]
    },
    {
      "cell_type": "markdown",
      "metadata": {
        "id": "v3s585nwqbFk"
      },
      "source": [
        "**Visualization**\n"
      ]
    },
    {
      "cell_type": "code",
      "metadata": {
        "colab": {
          "base_uri": "https://localhost:8080/",
          "height": 342
        },
        "id": "9RMtYxWBpUp1",
        "outputId": "6ce3a9b6-feee-40eb-967b-f79a0bf25cbb"
      },
      "source": [
        "sns.set_style(\"whitegrid\")  #cambiare se riesco\n",
        "sns.set(rc={\"figure.figsize\":(35,10)})\n",
        "ax = sns.barplot(x = \"genres\", y = \"Most_viewed\", data = genres_titles.toPandas())\n"
      ],
      "execution_count": 36,
      "outputs": [
        {
          "output_type": "display_data",
          "data": {
            "image/png": "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\n",
            "text/plain": [
              "<Figure size 2520x720 with 1 Axes>"
            ]
          },
          "metadata": {
            "tags": []
          }
        }
      ]
    },
    {
      "cell_type": "markdown",
      "metadata": {
        "id": "3eeJdP5fqtWt"
      },
      "source": [
        "**"/N" values identification**\n",
        "\n",
      ]
    },
    {
      "cell_type": "markdown",
      "metadata": {
        "id": "HWZeIBa_qnMF"
      },
      "source": [
        "**'N' values in the variables part of the analysis**  \n"
      ]
    },
    {
      "cell_type": "code",
      "metadata": {
        "id": "tsHk9WLsAjRI",
        "colab": {
          "base_uri": "https://localhost:8080/"
        },
        "outputId": "a7c991e2-0d82-45d6-b6c1-71b7b54b75bd"
      },
      "source": [
        "query8= \"\"\"SELECT primaryTitle \n",
        "                       FROM title_basics \n",
        "                       WHERE primaryTitle= '/N' \n",
        "                    \"\"\"\n",
        "no_n_in_basket = spark.sql(query8)\n",
        "no_n_in_basket.show()"
      ],
      "execution_count": 37,
      "outputs": [
        {
          "output_type": "stream",
          "text": [
            "+------------+\n",
            "|primaryTitle|\n",
            "+------------+\n",
            "+------------+\n",
            "\n"
          ],
          "name": "stdout"
        }
      ]
    },
    {
      "cell_type": "code",
      "metadata": {
        "id": "CEqThFg7BYkw",
        "cellView": "code",
        "colab": {
          "base_uri": "https://localhost:8080/"
        },
        "outputId": "13da0d9c-74f1-4c1a-b45f-6e308843611a"
      },
      "source": [
        "query9= \"\"\"SELECT primaryName \n",
        "           FROM name_basics \n",
        "           WHERE primaryName= \"/N\" \n",
        "        \"\"\"\n",
        "no_n_in_basket_PT2 = spark.sql(query9)\n",
        "no_n_in_basket_PT2.show()"
      ],
      "execution_count": 39,
      "outputs": [
        {
          "output_type": "stream",
          "text": [
            "+-----------+\n",
            "|primaryName|\n",
            "+-----------+\n",
            "+-----------+\n",
            "\n"
          ],
          "name": "stdout"
        }
      ]
    },
    {
      "cell_type": "markdown",
      "metadata": {
        "id": "6-ANZTQ5oesR"
      },
      "source": [
        "**Market Basket Analysis**"
      ]
    },
    {
      "cell_type": "markdown",
      "metadata": {
        "id": "fNcxxHKcojdq"
      },
      "source": [
        "1. Generate a basket"
      ]
    },
    {
      "cell_type": "code",
      "metadata": {
        "id": "8eZSgKP2zPlP"
      },
      "source": [
        " \n",
        "from pyspark.sql.functions import collect_set\n",
        "\n",
        "basket_dataset_preparation = spark.sql(\"\"\"SELECT b.tconst , n.primaryName \n",
        "                       FROM title_basics as b INNER JOIN title_principals as p ON b.tconst=p.tconst INNER JOIN name_basics as n ON p.nconst=n.nconst\n",
        "                       \"\"\")\n",
        "basket_group = basket_dataset_preparation.groupBy('tconst').agg(collect_set('primaryName').alias('Actors'))\n",
        "basket_group.createOrReplaceTempView('basket_group')\n"
      ],
      "execution_count": 40,
      "outputs": []
    },
    {
      "cell_type": "markdown",
      "metadata": {
        "id": "g1cGxig21q4F"
      },
      "source": [
        "2. Apply the FP-Growth Algorithm"
      ]
    },
    {
      "cell_type": "code",
      "metadata": {
        "id": "0wk8RNYn1cfV"
      },
      "source": [
        "fpGrowth = FPGrowth(itemsCol=\"Actors\", minSupport=0.001, minConfidence=0)\n",
        "fp_MBA = fpGrowth.fit(basket_group)"
      ],
      "execution_count": 44,
      "outputs": []
    },
    {
      "cell_type": "markdown",
      "metadata": {
        "id": "DbdvAyDJBGp0"
      },
      "source": [
        "3. Display similar items and compute the association rules"
      ]
    },
    {
      "cell_type": "code",
      "metadata": {
        "id": "Vfju3Vo38j4E",
        "colab": {
          "base_uri": "https://localhost:8080/"
        },
        "outputId": "5f58ab26-fb0e-4c12-e1a3-be00d4eec03c"
      },
      "source": [
        "# frequent itemsets method\n",
        "most_frequent_Actors = fp_MBA.freqItemsets\n",
        "most_frequent_Actors.createOrReplaceTempView(\"most_frequent_Actors\")\n",
        "most_frequent_Actors.show()\n",
        "\n",
        "# generated association rules.\n",
        "association_rules = fp_MBA.associationRules\n",
        "association_rules.createOrReplaceTempView(\"association_rules\")\n",
        "association_rules.show()\n",
        "\n",
        "# transform examines the input items against all the association rules and summarize the consequents as prediction\n",
        "associations = fp_MBA.transform(basket_group)\n",
        "associations.show()"
      ],
      "execution_count": 45,
      "outputs": [
        {
          "output_type": "stream",
          "text": [
            "+--------------------+-----+\n",
            "|               items| freq|\n",
            "+--------------------+-----+\n",
            "|       [Ekta Kapoor]|16465|\n",
            "|        [Reg Watson]|13423|\n",
            "|     [Shobha Kapoor]|12766|\n",
            "|[Shobha Kapoor, E...|11338|\n",
            "|     [Michael Egizi]|12444|\n",
            "|    [Joel Beckerman]|10891|\n",
            "|       [Tony Warren]| 9893|\n",
            "|    [Johnny Gilbert]| 8535|\n",
            "|   [William J. Bell]| 8496|\n",
            "|    [Ernesto Alonso]| 8415|\n",
            "|      [Delia Fiallo]| 8408|\n",
            "|        [Zama Habib]| 8242|\n",
            "|       [Alex Trebek]| 8020|\n",
            "|[Alex Trebek, Joh...| 7660|\n",
            "|     [Anil V. Kumar]| 7980|\n",
            "|      [Edd Kalehoff]| 7770|\n",
            "|       [Inés Rodena]| 7621|\n",
            "|    [Tina Dharamsey]| 7591|\n",
            "|  [Lee Phillip Bell]| 7482|\n",
            "|  [Armen Chakmakian]| 7346|\n",
            "+--------------------+-----+\n",
            "only showing top 20 rows\n",
            "\n",
            "+----------------+----------------+------------------+------------------+--------------------+\n",
            "|      antecedent|      consequent|        confidence|              lift|             support|\n",
            "+----------------+----------------+------------------+------------------+--------------------+\n",
            "|   [Alex Trebek]|[Johnny Gilbert]|0.9551122194513716|  638.527601032568|0.001342455723058745|\n",
            "|[Johnny Gilbert]|   [Alex Trebek]|0.8974809607498535| 638.5276010325679|0.001342455723058745|\n",
            "|   [Ekta Kapoor]| [Shobha Kapoor]|0.6886122077133313|307.78586881843705|0.001987044776506...|\n",
            "| [Shobha Kapoor]|   [Ekta Kapoor]|0.8881403728654238| 307.7858688184371|0.001987044776506...|\n",
            "|  [Edd Kalehoff]|    [Bob Barker]|0.8646074646074646| 704.1702074449149|0.001177365215079458|\n",
            "|    [Bob Barker]|  [Edd Kalehoff]|0.9588923779617471| 704.1702074449149|0.001177365215079458|\n",
            "|   [Vanna White]|     [Pat Sajak]|0.9907935116177116| 798.9583290480086|0.001188231044691683|\n",
            "|     [Pat Sajak]|   [Vanna White]| 0.958168456755229| 798.9583290480086|0.001188231044691683|\n",
            "+----------------+----------------+------------------+------------------+--------------------+\n",
            "\n",
            "+---------+--------------------+----------+\n",
            "|   tconst|              Actors|prediction|\n",
            "+---------+--------------------+----------+\n",
            "|tt0000658|        [Émile Cohl]|        []|\n",
            "|tt0000839|[Cecil M. Hepwort...|        []|\n",
            "|tt0001170|[Harry Todd, John...|        []|\n",
            "|tt0001581|      [Theo Frenkel]|        []|\n",
            "|tt0001664|[Harry Myers, Art...|        []|\n",
            "|tt0001732|[Mary Pickford, W...|        []|\n",
            "|tt0001887|[Mary Pickford, T...|        []|\n",
            "|tt0002253|[Charles Avery, M...|        []|\n",
            "|tt0002347|    [Henri Andréani]|        []|\n",
            "|tt0002473|[Mae Marsh, Charl...|        []|\n",
            "|tt0002588|[Olga Demidoff, A...|        []|\n",
            "|tt0002591|[Carl Froelich, H...|        []|\n",
            "|tt0002667|[Marin Sais, Knut...|        []|\n",
            "|tt0003043|[Chester Barnett,...|        []|\n",
            "|tt0003180|        [Bud Fisher]|        []|\n",
            "|tt0003644|[Douglas Payne, C...|        []|\n",
            "|tt0003689|[William S. Risin...|        []|\n",
            "|tt0003776|[Walter Edwards, ...|        []|\n",
            "|tt0003931|[Miriam Cooper, E...|        []|\n",
            "|tt0004091|[Jess Dandy, Fran...|        []|\n",
            "+---------+--------------------+----------+\n",
            "only showing top 20 rows\n",
            "\n"
          ],
          "name": "stdout"
        }
      ]
    },
    {
      "cell_type": "code",
      "metadata": {
        "id": "HE13vTm1FqZp",
        "colab": {
          "base_uri": "https://localhost:8080/",
          "height": 166
        },
        "outputId": "46273354-2fb2-447a-f2e0-a67385f2de5e"
      },
      "source": [
        "query_most_frequent_actors = \"\"\"SELECT items, freq\n",
        "           FROM most_frequent_Actors\n",
        "           WHERE size(items) >= 2\n",
        "           ORDER BY freq desc\n",
        "           \"\"\"\n",
        "import pandas\n",
        "spark.sql(query_most_frequent_actors).toPandas()"
      ],
      "execution_count": 46,
      "outputs": [
        {
          "output_type": "execute_result",
          "data": {
            "text/html": [
              "<div>\n",
              "<style scoped>\n",
              "    .dataframe tbody tr th:only-of-type {\n",
              "        vertical-align: middle;\n",
              "    }\n",
              "\n",
              "    .dataframe tbody tr th {\n",
              "        vertical-align: top;\n",
              "    }\n",
              "\n",
              "    .dataframe thead th {\n",
              "        text-align: right;\n",
              "    }\n",
              "</style>\n",
              "<table border=\"1\" class=\"dataframe\">\n",
              "  <thead>\n",
              "    <tr style=\"text-align: right;\">\n",
              "      <th></th>\n",
              "      <th>items</th>\n",
              "      <th>freq</th>\n",
              "    </tr>\n",
              "  </thead>\n",
              "  <tbody>\n",
              "    <tr>\n",
              "      <th>0</th>\n",
              "      <td>[Shobha Kapoor, Ekta Kapoor]</td>\n",
              "      <td>11338</td>\n",
              "    </tr>\n",
              "    <tr>\n",
              "      <th>1</th>\n",
              "      <td>[Alex Trebek, Johnny Gilbert]</td>\n",
              "      <td>7660</td>\n",
              "    </tr>\n",
              "    <tr>\n",
              "      <th>2</th>\n",
              "      <td>[Vanna White, Pat Sajak]</td>\n",
              "      <td>6780</td>\n",
              "    </tr>\n",
              "    <tr>\n",
              "      <th>3</th>\n",
              "      <td>[Bob Barker, Edd Kalehoff]</td>\n",
              "      <td>6718</td>\n",
              "    </tr>\n",
              "  </tbody>\n",
              "</table>\n",
              "</div>"
            ],
            "text/plain": [
              "                           items   freq\n",
              "0   [Shobha Kapoor, Ekta Kapoor]  11338\n",
              "1  [Alex Trebek, Johnny Gilbert]   7660\n",
              "2       [Vanna White, Pat Sajak]   6780\n",
              "3     [Bob Barker, Edd Kalehoff]   6718"
            ]
          },
          "metadata": {
            "tags": []
          },
          "execution_count": 46
        }
      ]
    }
  ]
}
